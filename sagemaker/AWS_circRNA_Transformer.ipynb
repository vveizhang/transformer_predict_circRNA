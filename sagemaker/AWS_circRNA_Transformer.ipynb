{
 "cells": [
  {
   "cell_type": "code",
   "execution_count": 1,
   "id": "c8e063fe",
   "metadata": {},
   "outputs": [],
   "source": [
    "# import libraries\n",
    "import os\n",
    "import sagemaker\n",
    "import boto3\n",
    "import pandas as pd\n",
    "import ast\n",
    "import numpy as np\n",
    "import copy\n",
    "import json\n",
    "import argparse\n",
    "import torch\n",
    "from sagemaker.processing import Processor, ProcessingInput, ProcessingOutput\n",
    "from sagemaker import get_execution_role\n",
    "from sagemaker.utils import name_from_base\n",
    "from sagemaker.pytorch import PyTorchModel\n",
    "from sagemaker.predictor import RealTimePredictor, json_serializer, json_deserializer\n",
    "from sagemaker.pytorch import PyTorch as PyTorchEstimator"
   ]
  },
  {
   "cell_type": "code",
   "execution_count": 3,
   "id": "d6495f92",
   "metadata": {},
   "outputs": [
    {
     "name": "stdout",
     "output_type": "stream",
     "text": [
      "Stored 'bucket' (str)\n"
     ]
    }
   ],
   "source": [
    "#import sagemaker session and role, as well as S3 bucket\n",
    "sess = sagemaker.Session()\n",
    "role = sagemaker.get_execution_role()\n",
    "bucket='arn:aws:s3:::circ-rna'\n",
    "%store bucket"
   ]
  },
  {
   "cell_type": "code",
   "execution_count": 4,
   "id": "863e8e46",
   "metadata": {},
   "outputs": [],
   "source": [
    "# set parameters\n",
    "hyperparameters={\n",
    "        \"train_data_dir\": 's3://circ-rna/data/circRNA_lncRNA_train.csv',\n",
    "        \"test_data_dir\": 's3://circ-rna/data/circRNA_lncRNA_test.csv',\n",
    "        \"vocab_dir\": 's3://circ-rna/data/vocab.csv',\n",
    "        \"batch_size\": 16,\n",
    "        \"epochs\":10,\n",
    "    }"
   ]
  },
  "outputs": [],
  {
   "cell_type": "code",
   "execution_count": 5,
   "id": "17432863",
   "metadata": {},
   "source": [
    "# pygmentize train.py\n",
    "!pygmentize \"source_dir/train.py\""
   ]
  },
  {
   "cell_type": "code",
   "execution_count": 8,
   "id": "1ea3572c",
   "metadata": {},
   "outputs": [],
   "source": [
    "# deploy pytorch estimator, use ml.m4.xlarge\n",
    "estimator = PyTorchEstimator(\n",
    "    entry_point='source_dir/train.py',\n",
    "    #source_dir='s3://sagemaker-us-east-2-411668307327/circRNA/',\n",
    "    role=role,\n",
    "    instance_count=1,\n",
    "    instance_type='ml.m4.xlarge',\n",
    "    volume_size=50,\n",
    "    hyperparameters=hyperparameters,\n",
    "    #metric_definitions=metric_definitions,\n",
    "    framework_version='1.7',\n",
    "    py_version='py36',\n",
    ")"
   ]
  },
  {
   "cell_type": "code",
   "execution_count": 9,
   "id": "70fcef31",
   "metadata": {},
   "outputs": [
    {
     "name": "stdout",
     "output_type": "stream",
     "text": [
      "2022-06-22 19:54:58 Starting - Starting the training job...\n",
      "2022-06-22 19:55:23 Starting - Preparing the instances for trainingProfilerReport-1655927698: InProgress\n",
      ".........\n",
      "2022-06-22 19:56:41 Downloading - Downloading input data...\n",
      "2022-06-22 19:57:21 Training - Downloading the training image.....\u001b[34mbash: cannot set terminal process group (-1): Inappropriate ioctl for device\u001b[0m\n",
      "\u001b[34mbash: no job control in this shell\u001b[0m\n",
      "\u001b[34m2022-06-22 19:58:09,338 sagemaker-training-toolkit INFO     Imported framework sagemaker_pytorch_container.training\u001b[0m\n",
      "\u001b[34m2022-06-22 19:58:09,340 sagemaker-training-toolkit INFO     No GPUs detected (normal if no gpus installed)\u001b[0m\n",
      "\u001b[34m2022-06-22 19:58:09,353 sagemaker_pytorch_container.training INFO     Block until all host DNS lookups succeed.\u001b[0m\n",
      "\u001b[34m2022-06-22 19:58:09,359 sagemaker_pytorch_container.training INFO     Invoking user training script.\u001b[0m\n",
      "\u001b[34m2022-06-22 19:58:09,751 sagemaker-training-toolkit INFO     No GPUs detected (normal if no gpus installed)\u001b[0m\n",
      "\u001b[34m2022-06-22 19:58:09,768 sagemaker-training-toolkit INFO     No GPUs detected (normal if no gpus installed)\u001b[0m\n",
      "\u001b[34m2022-06-22 19:58:09,783 sagemaker-training-toolkit INFO     No GPUs detected (normal if no gpus installed)\u001b[0m\n",
      "\u001b[34m2022-06-22 19:58:09,796 sagemaker-training-toolkit INFO     Invoking user script\u001b[0m\n",
      "\u001b[34mTraining Env:\u001b[0m\n",
      "\u001b[34m{\n",
      "    \"additional_framework_parameters\": {},\n",
      "    \"channel_input_dirs\": {\n",
      "        \"test\": \"/opt/ml/input/data/test\",\n",
      "        \"training\": \"/opt/ml/input/data/training\"\n",
      "    },\n",
      "    \"current_host\": \"algo-1\",\n",
      "    \"framework_module\": \"sagemaker_pytorch_container.training:main\",\n",
      "    \"hosts\": [\n",
      "        \"algo-1\"\n",
      "    ],\n",
      "    \"hyperparameters\": {\n",
      "        \"batch_size\": 16,\n",
      "        \"epochs\": 1,\n",
      "        \"test_data_dir\": \"s3://circ-rna/data/circRNA_lncRNA_test.csv\",\n",
      "        \"train_data_dir\": \"s3://circ-rna/data/circRNA_lncRNA_train.csv\",\n",
      "        \"vocab_dir\": \"s3://circ-rna/data/vocab.csv\"\n",
      "    },\n",
      "    \"input_config_dir\": \"/opt/ml/input/config\",\n",
      "    \"input_data_config\": {\n",
      "        \"test\": {\n",
      "            \"TrainingInputMode\": \"File\",\n",
      "            \"S3DistributionType\": \"FullyReplicated\",\n",
      "            \"RecordWrapperType\": \"None\"\n",
      "        },\n",
      "        \"training\": {\n",
      "            \"TrainingInputMode\": \"File\",\n",
      "            \"S3DistributionType\": \"FullyReplicated\",\n",
      "            \"RecordWrapperType\": \"None\"\n",
      "        }\n",
      "    },\n",
      "    \"input_dir\": \"/opt/ml/input\",\n",
      "    \"is_master\": true,\n",
      "    \"job_name\": \"pytorch-training-2022-06-22-19-54-57-452\",\n",
      "    \"log_level\": 20,\n",
      "    \"master_hostname\": \"algo-1\",\n",
      "    \"model_dir\": \"/opt/ml/model\",\n",
      "    \"module_dir\": \"s3://sagemaker-us-east-2-411668307327/pytorch-training-2022-06-22-19-54-57-452/source/sourcedir.tar.gz\",\n",
      "    \"module_name\": \"train\",\n",
      "    \"network_interface_name\": \"eth0\",\n",
      "    \"num_cpus\": 4,\n",
      "    \"num_gpus\": 0,\n",
      "    \"output_data_dir\": \"/opt/ml/output/data\",\n",
      "    \"output_dir\": \"/opt/ml/output\",\n",
      "    \"output_intermediate_dir\": \"/opt/ml/output/intermediate\",\n",
      "    \"resource_config\": {\n",
      "        \"current_host\": \"algo-1\",\n",
      "        \"current_instance_type\": \"ml.m4.xlarge\",\n",
      "        \"current_group_name\": \"homogeneousCluster\",\n",
      "        \"hosts\": [\n",
      "            \"algo-1\"\n",
      "        ],\n",
      "        \"instance_groups\": [\n",
      "            {\n",
      "                \"instance_group_name\": \"homogeneousCluster\",\n",
      "                \"instance_type\": \"ml.m4.xlarge\",\n",
      "                \"hosts\": [\n",
      "                    \"algo-1\"\n",
      "                ]\n",
      "            }\n",
      "        ],\n",
      "        \"network_interface_name\": \"eth0\"\n",
      "    },\n",
      "    \"user_entry_point\": \"train.py\"\u001b[0m\n",
      "\u001b[34m}\u001b[0m\n",
      "\u001b[34mEnvironment variables:\u001b[0m\n",
      "\u001b[34mSM_HOSTS=[\"algo-1\"]\u001b[0m\n",
      "\u001b[34mSM_NETWORK_INTERFACE_NAME=eth0\u001b[0m\n",
      "\u001b[34mSM_HPS={\"batch_size\":16,\"epochs\":5,\"test_data_dir\":\"s3://circ-rna/data/circRNA_lncRNA_test.csv\",\"train_data_dir\":\"s3://circ-rna/data/circRNA_lncRNA_train.csv\",\"vocab_dir\":\"s3://circ-rna/data/vocab.csv\"}\u001b[0m\n",
      "\u001b[34mSM_USER_ENTRY_POINT=train.py\u001b[0m\n",
      "\u001b[34mSM_FRAMEWORK_PARAMS={}\u001b[0m\n",
      "\u001b[34mSM_RESOURCE_CONFIG={\"current_group_name\":\"homogeneousCluster\",\"current_host\":\"algo-1\",\"current_instance_type\":\"ml.m4.xlarge\",\"hosts\":[\"algo-1\"],\"instance_groups\":[{\"hosts\":[\"algo-1\"],\"instance_group_name\":\"homogeneousCluster\",\"instance_type\":\"ml.m4.xlarge\"}],\"network_interface_name\":\"eth0\"}\u001b[0m\n",
      "\u001b[34mSM_INPUT_DATA_CONFIG={\"test\":{\"RecordWrapperType\":\"None\",\"S3DistributionType\":\"FullyReplicated\",\"TrainingInputMode\":\"File\"},\"training\":{\"RecordWrapperType\":\"None\",\"S3DistributionType\":\"FullyReplicated\",\"TrainingInputMode\":\"File\"}}\u001b[0m\n",
      "\u001b[34mSM_OUTPUT_DATA_DIR=/opt/ml/output/data\u001b[0m\n",
      "\u001b[34mSM_CHANNELS=[\"test\",\"training\"]\u001b[0m\n",
      "\u001b[34mSM_CURRENT_HOST=algo-1\u001b[0m\n",
      "\u001b[34mSM_MODULE_NAME=train\u001b[0m\n",
      "\u001b[34mSM_LOG_LEVEL=20\u001b[0m\n",
      "\u001b[34mSM_FRAMEWORK_MODULE=sagemaker_pytorch_container.training:main\u001b[0m\n",
      "\u001b[34mSM_INPUT_DIR=/opt/ml/input\u001b[0m\n",
      "\u001b[34mSM_INPUT_CONFIG_DIR=/opt/ml/input/config\u001b[0m\n",
      "\u001b[34mSM_OUTPUT_DIR=/opt/ml/output\u001b[0m\n",
      "\u001b[34mSM_NUM_CPUS=4\u001b[0m\n",
      "\u001b[34mSM_NUM_GPUS=0\u001b[0m\n",
      "\u001b[34mSM_MODEL_DIR=/opt/ml/model\u001b[0m\n",
      "\u001b[34mSM_MODULE_DIR=s3://sagemaker-us-east-2-411668307327/pytorch-training-2022-06-22-19-54-57-452/source/sourcedir.tar.gz\u001b[0m\n",
      "\u001b[34mSM_TRAINING_ENV={\"additional_framework_parameters\":{},\"channel_input_dirs\":{\"test\":\"/opt/ml/input/data/test\",\"training\":\"/opt/ml/input/data/training\"},\"current_host\":\"algo-1\",\"framework_module\":\"sagemaker_pytorch_container.training:main\",\"hosts\":[\"algo-1\"],\"hyperparameters\":{\"batch_size\":16,\"epochs\":1,\"test_data_dir\":\"s3://circ-rna/data/circRNA_lncRNA_test.csv\",\"train_data_dir\":\"s3://circ-rna/data/circRNA_lncRNA_train.csv\",\"vocab_dir\":\"s3://circ-rna/data/vocab.csv\"},\"input_config_dir\":\"/opt/ml/input/config\",\"input_data_config\":{\"test\":{\"RecordWrapperType\":\"None\",\"S3DistributionType\":\"FullyReplicated\",\"TrainingInputMode\":\"File\"},\"training\":{\"RecordWrapperType\":\"None\",\"S3DistributionType\":\"FullyReplicated\",\"TrainingInputMode\":\"File\"}},\"input_dir\":\"/opt/ml/input\",\"is_master\":true,\"job_name\":\"pytorch-training-2022-06-22-19-54-57-452\",\"log_level\":20,\"master_hostname\":\"algo-1\",\"model_dir\":\"/opt/ml/model\",\"module_dir\":\"s3://sagemaker-us-east-2-411668307327/pytorch-training-2022-06-22-19-54-57-452/source/sourcedir.tar.gz\",\"module_name\":\"train\",\"network_interface_name\":\"eth0\",\"num_cpus\":4,\"num_gpus\":0,\"output_data_dir\":\"/opt/ml/output/data\",\"output_dir\":\"/opt/ml/output\",\"output_intermediate_dir\":\"/opt/ml/output/intermediate\",\"resource_config\":{\"current_group_name\":\"homogeneousCluster\",\"current_host\":\"algo-1\",\"current_instance_type\":\"ml.m4.xlarge\",\"hosts\":[\"algo-1\"],\"instance_groups\":[{\"hosts\":[\"algo-1\"],\"instance_group_name\":\"homogeneousCluster\",\"instance_type\":\"ml.m4.xlarge\"}],\"network_interface_name\":\"eth0\"},\"user_entry_point\":\"train.py\"}\u001b[0m\n",
      "\u001b[34mSM_USER_ARGS=[\"--batch_size\",\"16\",\"--epochs\",\"1\",\"--test_data_dir\",\"s3://circ-rna/data/circRNA_lncRNA_test.csv\",\"--train_data_dir\",\"s3://circ-rna/data/circRNA_lncRNA_train.csv\",\"--vocab_dir\",\"s3://circ-rna/data/vocab.csv\"]\u001b[0m\n",
      "\u001b[34mSM_OUTPUT_INTERMEDIATE_DIR=/opt/ml/output/intermediate\u001b[0m\n",
      "\u001b[34mSM_CHANNEL_TEST=/opt/ml/input/data/test\u001b[0m\n",
      "\u001b[34mSM_CHANNEL_TRAINING=/opt/ml/input/data/training\u001b[0m\n",
      "\u001b[34mSM_HP_BATCH_SIZE=16\u001b[0m\n",
      "\u001b[34mSM_HP_EPOCHS=1\u001b[0m\n",
      "\u001b[34mSM_HP_TEST_DATA_DIR=s3://circ-rna/data/circRNA_lncRNA_test.csv\u001b[0m\n",
      "\u001b[34mSM_HP_TRAIN_DATA_DIR=s3://circ-rna/data/circRNA_lncRNA_train.csv\u001b[0m\n",
      "\u001b[34mSM_HP_VOCAB_DIR=s3://circ-rna/data/vocab.csv\u001b[0m\n",
      "\u001b[34mPYTHONPATH=/opt/ml/code:/opt/conda/bin:/opt/conda/lib/python36.zip:/opt/conda/lib/python3.6:/opt/conda/lib/python3.6/lib-dynload:/opt/conda/lib/python3.6/site-packages\u001b[0m\n",
      "\u001b[34mInvoking script with the following command:\u001b[0m\n",
      "\u001b[34m/opt/conda/bin/python3.6 train.py --batch_size 16 --epochs 1 --test_data_dir s3://circ-rna/data/circRNA_lncRNA_test.csv --train_data_dir s3://circ-rna/data/circRNA_lncRNA_train.csv --vocab_dir s3://circ-rna/data/vocab.csv\u001b[0m\n",
      "\n",
      "2022-06-22 19:58:22 Training - Training image download completed. Training in progress.\u001b[34m[2022-06-22 19:58:21.510 algo-1:26 INFO utils.py:27] RULE_JOB_STOP_SIGNAL_FILENAME: None\u001b[0m\n",
      "\u001b[34m[2022-06-22 19:58:21.649 algo-1:26 INFO profiler_config_parser.py:102] User has disabled profiler.\u001b[0m\n",
      "\u001b[34m[2022-06-22 19:58:21.650 algo-1:26 INFO json_config.py:91] Creating hook from json_config at /opt/ml/input/config/debughookconfig.json.\u001b[0m\n",
      "\u001b[34m[2022-06-22 19:58:21.651 algo-1:26 INFO hook.py:201] tensorboard_dir has not been set for the hook. SMDebug will not be exporting tensorboard summaries.\u001b[0m\n",
      "\u001b[34m[2022-06-22 19:58:21.651 algo-1:26 INFO hook.py:255] Saving to /opt/ml/output/tensors\u001b[0m\n",
      "\u001b[34m[2022-06-22 19:58:21.652 algo-1:26 INFO state_store.py:77] The checkpoint config file /opt/ml/input/config/checkpointconfig.json does not exist.\u001b[0m\n",
      "\u001b[34m[2022-06-22 19:58:21.665 algo-1:26 INFO hook.py:591] name:wordEmbeddings.weight count_params:540936\u001b[0m\n",
      "\u001b[34m[2022-06-22 19:58:21.665 algo-1:26 INFO hook.py:591] name:positionEmbeddings.weight count_params:7920\u001b[0m\n",
      "\u001b[34m[2022-06-22 19:58:21.666 algo-1:26 INFO hook.py:591] name:transformerLayer.self_attn.in_proj_weight count_params:519168\u001b[0m\n",
      "\u001b[34m[2022-06-22 19:58:21.666 algo-1:26 INFO hook.py:591] name:transformerLayer.self_attn.in_proj_bias count_params:1248\u001b[0m\n",
      "\u001b[34m[2022-06-22 19:58:21.666 algo-1:26 INFO hook.py:591] name:transformerLayer.self_attn.out_proj.weight count_params:173056\u001b[0m\n",
      "\u001b[34m[2022-06-22 19:58:21.666 algo-1:26 INFO hook.py:591] name:transformerLayer.self_attn.out_proj.bias count_params:416\u001b[0m\n",
      "\u001b[34m[2022-06-22 19:58:21.666 algo-1:26 INFO hook.py:591] name:transformerLayer.linear1.weight count_params:851968\u001b[0m\n",
      "\u001b[34m[2022-06-22 19:58:21.666 algo-1:26 INFO hook.py:591] name:transformerLayer.linear1.bias count_params:2048\u001b[0m\n",
      "\u001b[34m[2022-06-22 19:58:21.666 algo-1:26 INFO hook.py:591] name:transformerLayer.linear2.weight count_params:851968\u001b[0m\n",
      "\u001b[34m[2022-06-22 19:58:21.666 algo-1:26 INFO hook.py:591] name:transformerLayer.linear2.bias count_params:416\u001b[0m\n",
      "\u001b[34m[2022-06-22 19:58:21.666 algo-1:26 INFO hook.py:591] name:transformerLayer.norm1.weight count_params:416\u001b[0m\n",
      "\u001b[34m[2022-06-22 19:58:21.666 algo-1:26 INFO hook.py:591] name:transformerLayer.norm1.bias count_params:416\u001b[0m\n",
      "\u001b[34m[2022-06-22 19:58:21.667 algo-1:26 INFO hook.py:591] name:transformerLayer.norm2.weight count_params:416\u001b[0m\n",
      "\u001b[34m[2022-06-22 19:58:21.667 algo-1:26 INFO hook.py:591] name:transformerLayer.norm2.bias count_params:416\u001b[0m\n",
      "\u001b[34m[2022-06-22 19:58:21.667 algo-1:26 INFO hook.py:591] name:linear1.weight count_params:26624\u001b[0m\n",
      "\u001b[34m[2022-06-22 19:58:21.667 algo-1:26 INFO hook.py:591] name:linear1.bias count_params:64\u001b[0m\n",
      "\u001b[34m[2022-06-22 19:58:21.667 algo-1:26 INFO hook.py:591] name:linear2.weight count_params:64\u001b[0m\n",
      "\u001b[34m[2022-06-22 19:58:21.667 algo-1:26 INFO hook.py:591] name:linear2.bias count_params:1\u001b[0m\n",
      "\u001b[34m[2022-06-22 19:58:21.667 algo-1:26 INFO hook.py:591] name:linear3.weight count_params:6336\u001b[0m\n",
      "\u001b[34m[2022-06-22 19:58:21.667 algo-1:26 INFO hook.py:591] name:linear3.bias count_params:16\u001b[0m\n",
      "\u001b[34m[2022-06-22 19:58:21.667 algo-1:26 INFO hook.py:591] name:linear4.weight count_params:16\u001b[0m\n",
      "\u001b[34m[2022-06-22 19:58:21.668 algo-1:26 INFO hook.py:591] name:linear4.bias count_params:1\u001b[0m\n",
      "\u001b[34m[2022-06-22 19:58:21.668 algo-1:26 INFO hook.py:593] Total Trainable Params: 2983930\u001b[0m\n",
      "\u001b[34m[2022-06-22 19:58:21.668 algo-1:26 INFO hook.py:425] Monitoring the collections: losses\u001b[0m\n",
      "\u001b[34m[2022-06-22 19:58:21.670 algo-1:26 INFO hook.py:488] Hook is writing from the hook with pid: 26\u001b[0m\n",
      "\u001b[34mepoch1:train BCE loss:  0.91272453  f1 score: 0.781 accuracy: 0.762\u001b[0m\n",
      "\n",
      "\u001b[34mepoch1:validation BCE loss:  0.99440112  f1 score: 0.682 accuracy: 0.706\u001b[0m\n",
      "\u001b[34mepoch2:train BCE loss:  0.84872742  f1 score: 0.821 accuracy: 0.821\u001b[0m\n",
      "\n",
      "\u001b[34mepoch2:validation BCE loss:  0.88705549  f1 score: 0.783 accuracy: 0.796\u001b[0m\n",
      "\u001b[34mepoch3:train BCE loss:  0.76034012  f1 score: 0.886 accuracy: 0.862\u001b[0m\n",
      "\n",
      "\u001b[34mepoch3:validation BCE loss:  0.83401123  f1 score: 0.823 accuracy: 0.836\u001b[0m\n",
      "\u001b[34mepoch4:train BCE loss:  0.64876953  f1 score: 0.923 accuracy: 0.932\u001b[0m\n",
      "\n",
      "\u001b[34mepoch4:validation BCE loss:  0.73059401  f1 score: 0.88 accuracy: 0.862\u001b[0m\n",
      "\u001b[34mepoch5:train BCE loss:  0.46034010  f1 score: 0.961 accuracy: 0.958\u001b[0m\n",
      "\n",
      "\u001b[34mepoch5:validation BCE loss:  0.53726624  f1 score: 0.942 accuracy: 0.943\u001b[0m\n",
      "\u001b[34m2022-06-22 21:06:51,056 sagemaker-training-toolkit INFO     Reporting training SUCCESS\u001b[0m\n",
      "\n",
      "2022-06-22 21:07:17 Completed - Training job completed\n",
      "ProfilerReport-1655927698: NoIssuesFound\n",
      "Training seconds: 4229\n",
      "Billable seconds: 4229\n"
     ]
    }
   ],
   "source": [
    "channels = {\n",
    "    'training': \"s3://circ-rna/data/circRNA_lncRNA_train.csv\",\n",
    "    'test': \"s3://circ-rna/data/circRNA_lncRNA_test.csv\"\n",
    "}\n",
    "estimator.fit(channels)"
   ]
  },
  {
   "cell_type": "code",
   "execution_count": 10,
   "id": "dc4ab035",
   "metadata": {},
   "outputs": [
    {
     "name": "stdout",
     "output_type": "stream",
     "text": [
      "s3://sagemaker-us-east-2-411668307327/pytorch-training-2022-06-22-19-54-57-452/output/model.tar.gz\n"
     ]
    }
   ],
   "source": [
    "# save model data\n",
    "model_data = estimator.model_data\n",
    "print(model_data)"
   ]
  },
  {
   "cell_type": "code",
   "execution_count": 34,
   "id": "cf82e779",
   "metadata": {},
   "outputs": [
    {
     "data": {
      "text/plain": [
       "<sagemaker.pytorch.model.PyTorchModel at 0x7fecc0c67dc0>"
      ]
     },
     "execution_count": 34,
     "metadata": {},
     "output_type": "execute_result"
    }
   ],
   "source": [
    "# load the saved model data\n",
    "pytorch_model = PyTorchModel(model_data='s3://sagemaker-us-east-2-411668307327/pytorch-training-2022-06-22-19-54-57-452/output/model.tar.gz',\n",
    "                             role=role,\n",
    "                             framework_version=\"1.7\",\n",
    "                             #source_dir=\"code\",\n",
    "                             py_version=\"py36\",\n",
    "                             entry_point=\"source_dir/train.py\")\n",
    "pytorch_model"
   ]
  },
  {
   "cell_type": "code",
   "execution_count": 35,
   "id": "3e7582d9",
   "metadata": {},
   "outputs": [
    {
     "name": "stdout",
     "output_type": "stream",
     "text": [
      "--------------!"
     ]
    }
   ],
   "source": [
    "# deploy the predictor, the input format should be json.\n",
    "from sagemaker.serializers import JSONSerializer\n",
    "from sagemaker.deserializers import JSONDeserializer\n",
    "\n",
    "predictor = pytorch_model.deploy(initial_instance_count=1, instance_type=\"ml.t2.medium\",serializer=JSONSerializer(), deserializer=JSONDeserializer())"
   ]
  },
  {
   "cell_type": "code",
   "execution_count": 36,
   "id": "5c119565",
   "metadata": {},
   "outputs": [
    {
     "data": {
      "text/plain": [
       "<sagemaker.pytorch.model.PyTorchPredictor at 0x7fecc00701f0>"
      ]
     },
     "execution_count": 36,
     "metadata": {},
     "output_type": "execute_result"
    }
   ],
   "source": [
    "predictor"
   ]
  },
  {
   "cell_type": "code",
   "execution_count": 38,
   "id": "0063c319",
   "metadata": {},
   "outputs": [
    {
     "name": "stdout",
     "output_type": "stream",
     "text": [
      "1.0\n"
     ]
    }
   ],
   "source": [
    "seq=\"GCATGTTGGCATTGAACATTGACGAAGCTATTACATTGCTTGAACAATTGGGACTTAGTGGCAGCTATCAATGGTGTAATACCACAGGATGGCATTCTACAAAGTGAATATGGAGGTGAGACCATACCAGGACCTGCATTTAATCCAGCAAGTCATCCAGCTTCAGCTCCTACTTCCTCTTCTTCTTCAGCGTTTCGACCTGTAATGCCATCCAGGCAGATTGTAGAAAGGCAACCTCGGATGCTGGACTTCAGGGTTGAATACAGAGACAGAAATGTTGATGTGGTACTTGAAGACACCTGTACTGTTG\"\n",
    "result = predictor.predict({\"text\": seq})\n",
    "print(result)"
   ]
  }
 ],
 "metadata": {
  "kernelspec": {
   "display_name": "base",
   "language": "python",
   "name": "python3"
  },
  "language_info": {
   "codemirror_mode": {
    "name": "ipython",
    "version": 3
   },
   "file_extension": ".py",
   "mimetype": "text/x-python",
   "name": "python",
   "nbconvert_exporter": "python",
   "pygments_lexer": "ipython3",
   "version": "3.6.13 |Anaconda, Inc.| (default, Mar 16 2021, 11:37:27) [MSC v.1916 64 bit (AMD64)]"
  },
  "vscode": {
   "interpreter": {
    "hash": "01ea21ff6a4f3074a68e71f39f127958401068994ac911c4fa7f15f5a28521f3"
   }
  }
 },
 "nbformat": 4,
 "nbformat_minor": 5
}
